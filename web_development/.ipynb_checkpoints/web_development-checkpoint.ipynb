{
 "cells": [
  {
   "cell_type": "markdown",
   "metadata": {},
   "source": [
    "# Web Development"
   ]
  },
  {
   "cell_type": "markdown",
   "metadata": {},
   "source": [
    "## Lesson Outline\n",
    "* Basics of a web app\n",
    "    * [html](#HTML): content\n",
    "    * [css](#CSS): style\n",
    "    * [javascript](#javascript): animations\n",
    "* Front-end libraries\n",
    "    * boostrap\n",
    "    * [plotly](#Plotly)\n",
    "* Back-end libraries\n",
    "    * [flask](#Flask)\n",
    "    * Deploy a web app to the cloud"
   ]
  },
  {
   "cell_type": "markdown",
   "metadata": {},
   "source": [
    "### HTML"
   ]
  },
  {
   "cell_type": "markdown",
   "metadata": {},
   "source": [
    "* `%%html`: magic function to render html content in Jupyter Notebook"
   ]
  },
  {
   "cell_type": "code",
   "execution_count": 54,
   "metadata": {},
   "outputs": [
    {
     "data": {
      "text/html": [
       "<html>\n",
       "\n",
       "<head>\n",
       "    <title>Page Title</title>\n",
       "</head>\n",
       "\n",
       "<body>\n",
       "    <h1>A Photo of a Beautiful Landscape</h1>\n",
       "    <a href=\"https://www.w3schools.com/tags\">HTML tags</a>\n",
       "    <p>Here is the photo</p>\n",
       "    <img src=\"img/audi_rs5.jpg\" alt=\"Country Landscape\">\n",
       "</body>\n",
       "\n",
       "</html>\n"
      ],
      "text/plain": [
       "<IPython.core.display.HTML object>"
      ]
     },
     "metadata": {},
     "output_type": "display_data"
    }
   ],
   "source": [
    "%%html\n",
    "<html>\n",
    "\n",
    "<head>\n",
    "    <title>Page Title</title>\n",
    "</head>\n",
    "\n",
    "<body>\n",
    "    <h1>A Photo of a Beautiful Landscape</h1>\n",
    "    <a href=\"https://www.w3schools.com/tags\">HTML tags</a>\n",
    "    <p>Here is the photo</p>\n",
    "    <img src=\"img/audi_rs5.jpg\" alt=\"Country Landscape\">\n",
    "</body>\n",
    "\n",
    "</html>"
   ]
  },
  {
   "cell_type": "markdown",
   "metadata": {},
   "source": [
    "### Explanation of the HTML document\n",
    "As you progress through the lesson, you'll find that the `<head>` tag is mostly for housekeeping like specifying the page title and adding meta tags. **Meta tags** are in essence information about the page that web crawlers see but users do not. The head tag also contains links to javascript and css files, which you'll see later in the lesson.\n",
    "\n",
    "The website content goes in the `<body>` tag. The body tag can contain headers, paragraphs, images, links, forms, lists, and a handful of other tags. Of particular note in this example are the link tag `<a>` and the image tag `<img>`.\n",
    "\n",
    "Both of these tags link to external information outside of the html doc. In the html code above, the link `<a>` tag links to an external website called w3schools. The href is called an **attribute**, and in this case href specifies the link.\n",
    "\n",
    "The image `<img>` tag displays an image called \"rs5_audi.jpg\". In this case, the jpg file and the html document are in the same directory, but the documents do not have to be. The src attribute specifies the path to the image file relative to the html document. The alt tag contains **text** that gets displaced in case the image cannot be found.\n",
    "\n",
    "#### Exercise 1"
   ]
  },
  {
   "cell_type": "code",
   "execution_count": 16,
   "metadata": {},
   "outputs": [
    {
     "data": {
      "text/html": [
       "<html>\n",
       "  \n",
       "  <head>\n",
       "    <title>Main Title</title>\n",
       "  </head>\n",
       "    \n",
       "  <body>\n",
       "    <!-- TODO: Add a header tag, h1. The h1 should say \"Today's TODO list' -->\n",
       "    <h1>我特么也想吃大毛</h1>\n",
       "    <!-- TODO: Notice that the workspace folder contains the Udacity logo in a file called udacity.png. Insert the image here -->\n",
       "    <img src='img/udacity_logo.png' alt='Udacity Logo'>\n",
       "    <!-- TODO: Use a link tag to link to the Udacity website https://www.udacity.com --Make sure to add text in-between the opening and closing tags.-->\n",
       "    <a href=\"https://www.udacity.com\">Udacity</a>\n",
       "    <!-- TODO: Use a paragraph tag. Inside the paragraph tag, introduce yourself -->\n",
       "    <p> My name is Stefan Lyu and I am taking the Udacity Data Scientist Nanodegree course to improve my skills </p>\n",
       "   \t<!-- TODO: Make an unordered list containing at least three items that you plan to do this week to progress in the nanodgree. Look up the syntax for unordered lists if you're not sure how to do this.   -->\n",
       "   \t<ul>\n",
       "   \t\t<li>Apply for 10 jobs on <a href=\"http://www.linkedin.com\">Linkedin</a></li>\n",
       "   \t\t<li>Finish Udacity lesson on web development</li>\n",
       "   \t\t<li>Practice 1 leetcode question and 2 sql questions</li>\n",
       "   \t</ul>\n",
       "    <!-- TODO: Get creative and add anything else youl would like to add. The W3Schools website has a wealth of information about html tags. See: https://www.w3schools.com/tags -->\n",
       "  </body>\n",
       " \n",
       "</html>\n"
      ],
      "text/plain": [
       "<IPython.core.display.HTML object>"
      ]
     },
     "metadata": {},
     "output_type": "display_data"
    }
   ],
   "source": [
    "%%html\n",
    "<html>\n",
    "  \n",
    "  <head>\n",
    "    <title>Main Title</title>\n",
    "  </head>\n",
    "    \n",
    "  <body>\n",
    "    <!-- TODO: Add a header tag, h1. The h1 should say \"Today's TODO list' -->\n",
    "    <h1>我特么也想吃大毛</h1>\n",
    "    <!-- TODO: Notice that the workspace folder contains the Udacity logo in a file called udacity.png. Insert the image here -->\n",
    "    <img src='img/udacity_logo.png' alt='Udacity Logo'>\n",
    "    <!-- TODO: Use a link tag to link to the Udacity website https://www.udacity.com --Make sure to add text in-between the opening and closing tags.-->\n",
    "    <a href=\"https://www.udacity.com\">Udacity</a>\n",
    "    <!-- TODO: Use a paragraph tag. Inside the paragraph tag, introduce yourself -->\n",
    "    <p> My name is Stefan Lyu and I am taking the Udacity Data Scientist Nanodegree course to improve my skills </p>\n",
    "   \t<!-- TODO: Make an unordered list containing at least three items that you plan to do this week to progress in the nanodgree. Look up the syntax for unordered lists if you're not sure how to do this.   -->\n",
    "   \t<ul>\n",
    "   \t\t<li>Apply for 10 jobs on <a href=\"http://www.linkedin.com\">Linkedin</a></li>\n",
    "   \t\t<li>Finish Udacity lesson on web development</li>\n",
    "   \t\t<li>Practice 1 leetcode question and 2 sql questions</li>\n",
    "   \t</ul>\n",
    "    <!-- TODO: Get creative and add anything else youl would like to add. The W3Schools website has a wealth of information about html tags. See: https://www.w3schools.com/tags -->\n",
    "  </body>\n",
    " \n",
    "</html>"
   ]
  },
  {
   "cell_type": "markdown",
   "metadata": {},
   "source": [
    "### Div and Span Elements\n",
    "You can use div elements to split off large chunks of html into sections. Span elements, on the other hand, are for small chunks of html. You generally use span elements in the middle of a piece of text in order to apply a specific style to that text. You'll see how this works a bit later in the CSS portion of the lesson."
   ]
  },
  {
   "cell_type": "code",
   "execution_count": 18,
   "metadata": {},
   "outputs": [
    {
     "data": {
      "text/html": [
       "<div>\n",
       "   <p>This is an example of when to use a div elements versus a span element. A span element goes around <span>a small chunk of html</span></p>\n",
       "</div>\n"
      ],
      "text/plain": [
       "<IPython.core.display.HTML object>"
      ]
     },
     "metadata": {},
     "output_type": "display_data"
    }
   ],
   "source": [
    "%%html\n",
    "<div>\n",
    "   <p>This is an example of when to use a div elements versus a span element. A span element goes around <span>a small chunk of html</span></p>\n",
    "</div>"
   ]
  },
  {
   "cell_type": "markdown",
   "metadata": {},
   "source": [
    "### IDs and Classes"
   ]
  },
  {
   "cell_type": "code",
   "execution_count": 17,
   "metadata": {},
   "outputs": [
    {
     "data": {
      "text/html": [
       "<div id=\"top\">\n",
       "    <p class=\"first_paragraph\">First paragraph of the section</p>\n",
       "    <p class=\"second_paragraph\">Second paragraph of the section</p>\n",
       "</div>\n",
       "\n",
       "<div id=\"bottom\">\n",
       "    <p class=\"first_paragraph\">First paragraph of the section</p>\n",
       "    <p class=\"second_paragraph\">Second paragraph of the section</p>\n",
       "</div>\n"
      ],
      "text/plain": [
       "<IPython.core.display.HTML object>"
      ]
     },
     "metadata": {},
     "output_type": "display_data"
    }
   ],
   "source": [
    "%%html\n",
    "<div id=\"top\">\n",
    "    <p class=\"first_paragraph\">First paragraph of the section</p>\n",
    "    <p class=\"second_paragraph\">Second paragraph of the section</p>\n",
    "</div>\n",
    "\n",
    "<div id=\"bottom\">\n",
    "    <p class=\"first_paragraph\">First paragraph of the section</p>\n",
    "    <p class=\"second_paragraph\">Second paragraph of the section</p>\n",
    "</div>"
   ]
  },
  {
   "cell_type": "markdown",
   "metadata": {},
   "source": [
    "#### Exercise 2"
   ]
  },
  {
   "cell_type": "code",
   "execution_count": 19,
   "metadata": {},
   "outputs": [
    {
     "data": {
      "text/html": [
       "<html>\n",
       "  \n",
       "  <head>\n",
       "    <title>Udacity Task List</title>\n",
       "  </head>\n",
       "  <body>\n",
       "    <h1>Today's TODO list</h1>\n",
       "    <img src='img/udacity_logo.png' alt='Udacity Logo'>\n",
       "    <!-- TODO: add an id to the Udacity link tag -->\n",
       "    <a id='link' href=\"https://www.udacity.com\">Udacity</a>    \n",
       "    <!-- TODO: Wrap the following paragraphs and list with a div tag. Add an id to the div tag called main-content -->\n",
       "    <!-- TODO: add a class to the the next two paragraphs after this comment. Call the class bold-paragraph -->\n",
       "    <div id='main-content'>\n",
       "      <p class='bold-paragrpah'>Hi, my name is Andrew.</p>    \n",
       "      <p class='bold-paragraph'>I am a Udacity student from Los Angeles, California</p>\n",
       "      <p>I'm currently studying for the data scientist nanodegree program</p>\n",
       "      <p>These are my tasks:</p>\n",
       "      <ul>\n",
       "          <li>Watch ten videos</li>\n",
       "          <li>Answer all the quizzes</li>\n",
       "          <li>Work on the project for 2 hours</li>\n",
       "      </ul>\n",
       "      <p>Here is a table of the tasks that I've completed this week</p>\n",
       "    </div>\n",
       "    <table>\n",
       "      <caption>Breakdown of Tasks Completed</caption>\n",
       "      <tr>\n",
       "        <th>Day</th>\n",
       "        <th>Tasks Completed</th>\n",
       "      </tr>\n",
       "      <tr>\n",
       "        <td>Monday</td>\n",
       "        <td>Completed five concepts</td>\n",
       "      </tr>\n",
       "      <tr>\n",
       "        <td>Tuesday</td>\n",
       "        <td>Did three quizzes</td>\n",
       "      </tr>\n",
       "    </table>\n",
       "    <br>\n",
       "    <nav>\n",
       "      <a href=\"https://www.w3schools.com/html/\">HTML</a> |\n",
       "      <a href=\"https://www.w3schools.com/w3css/\">CSS</a> |\n",
       "      <a href=\"https://www.w3schools.com/js/default.asp\">JavaScript</a> |\n",
       "      <a href=\"https://www.w3schools.com/Jquery/default.asp\">jQuery</a>\n",
       "\t</nav>\n",
       "  </body>\n",
       "  \n",
       "</html>\n"
      ],
      "text/plain": [
       "<IPython.core.display.HTML object>"
      ]
     },
     "metadata": {},
     "output_type": "display_data"
    }
   ],
   "source": [
    "%%html\n",
    "<html>\n",
    "  \n",
    "  <head>\n",
    "    <title>Udacity Task List</title>\n",
    "  </head>\n",
    "  <body>\n",
    "    <h1>Today's TODO list</h1>\n",
    "    <img src='img/udacity_logo.png' alt='Udacity Logo'>\n",
    "    <!-- TODO: add an id to the Udacity link tag -->\n",
    "    <a id='link' href=\"https://www.udacity.com\">Udacity</a>    \n",
    "    <!-- TODO: Wrap the following paragraphs and list with a div tag. Add an id to the div tag called main-content -->\n",
    "    <!-- TODO: add a class to the the next two paragraphs after this comment. Call the class bold-paragraph -->\n",
    "    <div id='main-content'>\n",
    "      <p class='bold-paragrpah'>Hi, my name is Andrew.</p>    \n",
    "      <p class='bold-paragraph'>I am a Udacity student from Los Angeles, California</p>\n",
    "      <p>I'm currently studying for the data scientist nanodegree program</p>\n",
    "      <p>These are my tasks:</p>\n",
    "      <ul>\n",
    "          <li>Watch ten videos</li>\n",
    "          <li>Answer all the quizzes</li>\n",
    "          <li>Work on the project for 2 hours</li>\n",
    "      </ul>\n",
    "      <p>Here is a table of the tasks that I've completed this week</p>\n",
    "    </div>\n",
    "    <table>\n",
    "      <caption>Breakdown of Tasks Completed</caption>\n",
    "      <tr>\n",
    "        <th>Day</th>\n",
    "        <th>Tasks Completed</th>\n",
    "      </tr>\n",
    "      <tr>\n",
    "        <td>Monday</td>\n",
    "        <td>Completed five concepts</td>\n",
    "      </tr>\n",
    "      <tr>\n",
    "        <td>Tuesday</td>\n",
    "        <td>Did three quizzes</td>\n",
    "      </tr>\n",
    "    </table>\n",
    "    <br>\n",
    "    <nav>\n",
    "      <a href=\"https://www.w3schools.com/html/\">HTML</a> |\n",
    "      <a href=\"https://www.w3schools.com/w3css/\">CSS</a> |\n",
    "      <a href=\"https://www.w3schools.com/js/default.asp\">JavaScript</a> |\n",
    "      <a href=\"https://www.w3schools.com/Jquery/default.asp\">jQuery</a>\n",
    "\t</nav>\n",
    "  </body>\n",
    "  \n",
    "</html>"
   ]
  },
  {
   "cell_type": "markdown",
   "metadata": {},
   "source": [
    "### CSS"
   ]
  },
  {
   "cell_type": "markdown",
   "metadata": {},
   "source": [
    "**What is the Purpose of CSS?**\n",
    "\n",
    "In most professional websites, css is kept in a separate stylesheet. This makes it easier to separate content (html) from style (css). Code becomes easier to read and maintain.\n",
    "\n",
    "If you're interested in the history of css and how it came about, here is an interesting link: history of css.\n",
    "\n",
    "CSS stands for cascading style sheets. The \"cascading\" refers to how rules trickle down to the various layers of an html tree. For example, you might specify that all paragraphs have the same font type. But then you want to override one of the paragraphs to have a different font type. How does a browser decide which rules apply when there is a conflict? That's based on the cascade over. You can read more about that here."
   ]
  },
  {
   "cell_type": "markdown",
   "metadata": {},
   "source": [
    "![image.png](img/different_ways.png)"
   ]
  },
  {
   "cell_type": "markdown",
   "metadata": {},
   "source": [
    "![image.png](img/rules_syntax.png)"
   ]
  },
  {
   "cell_type": "markdown",
   "metadata": {},
   "source": [
    "![image.png](img/rules_syntax2.png)"
   ]
  },
  {
   "cell_type": "markdown",
   "metadata": {},
   "source": [
    "![image.png](img/margin_padding.png)"
   ]
  },
  {
   "cell_type": "markdown",
   "metadata": {},
   "source": [
    "![image.png](img/margin_padding2.png)"
   ]
  },
  {
   "cell_type": "markdown",
   "metadata": {},
   "source": [
    "![image.png](img/size.png)"
   ]
  },
  {
   "cell_type": "markdown",
   "metadata": {},
   "source": [
    "#### Exercise 3: CSS"
   ]
  },
  {
   "cell_type": "code",
   "execution_count": 51,
   "metadata": {},
   "outputs": [
    {
     "data": {
      "text/html": [
       "<html>\n",
       "  <head>\n",
       "    <title>Udacity Task List</title>\n",
       "    <style>\n",
       "        body {\n",
       "          margin-left:25px;\n",
       "          margin-right:25px;\n",
       "        }\n",
       "\n",
       "        h1 {\n",
       "          text-transform: uppercase;\n",
       "          margin-top: 20px;\n",
       "          margin-bottom: 20px;\n",
       "        }\n",
       "\n",
       "        img#udacity_logo {\n",
       "          width: 10%;\n",
       "        }\n",
       "\n",
       "        a#main-link {\n",
       "          display: block;\n",
       "          margin-top: 20px;\n",
       "          margin-bottom: 20px;\n",
       "          text-decoration: none;\n",
       "          color: gray;\n",
       "        }\n",
       "\n",
       "        div#main-content {\n",
       "          font-family: 'helvetica';\n",
       "        }\n",
       "\n",
       "        p.bold-paragraph {\n",
       "          font-weight: bold;\n",
       "        }\n",
       "        \n",
       "        td {\n",
       "          color:green;\n",
       "          border:solid black 1px;\n",
       "        }\n",
       "    </style>\n",
       "  </head>\n",
       "  <body>\n",
       "    <h1>Today's TODO list</h1>\n",
       "    <img id='udacity_logo' src='img/udacity_logo.png' alt='Udacity Logo'>\n",
       "    <a id=\"main-link\" href=\"https://www.udacity.com\">Udacity</a>    \n",
       "    <div id=\"main-content\">\n",
       "      <p class=\"bold-paragraph\">Hi, my name is Andrew.</p>\n",
       "      <p class=\"bold-paragraph\">I am a Udacity student from Los Angeles, California</p>\n",
       "      <p>I'm currently studying for the data scientist nanodegree program</p>\n",
       "      <p>These are my tasks:</p>\n",
       "      <ul>\n",
       "          <li>Watch ten videos</li>\n",
       "          <li>Answer all the quizzes</li>\n",
       "          <li>Work on the project for 2 hours</li>\n",
       "      </ul>\n",
       "      <p>Here is a table of the tasks that I've completed this week</p>\n",
       "    </div>\n",
       "    <table>\n",
       "      <caption>Breakdown of Tasks Completed</caption>\n",
       "      <tr>\n",
       "        <th>Day</th>\n",
       "        <th>Tasks Completed</th>\n",
       "      </tr>\n",
       "      <tr>\n",
       "        <td>Monday</td>\n",
       "        <td>Completed five concepts</td>\n",
       "      </tr>\n",
       "      <tr>\n",
       "        <td>Tuesday</td>\n",
       "        <td>Did three quizzes</td>\n",
       "      </tr>\n",
       "    </table>\n",
       "    <br>\n",
       "    <nav>\n",
       "      <a href=\"https://www.w3schools.com/html/\">HTML</a> |\n",
       "      <a href=\"https://www.w3schools.com/w3css/\">CSS</a> |\n",
       "      <a href=\"https://www.w3schools.com/js/default.asp\">JavaScript</a> |\n",
       "      <a href=\"https://www.w3schools.com/Jquery/default.asp\">jQuery</a>\n",
       "    </nav>\n",
       "  </body>\n",
       "  \n",
       "</html>\n"
      ],
      "text/plain": [
       "<IPython.core.display.HTML object>"
      ]
     },
     "metadata": {},
     "output_type": "display_data"
    }
   ],
   "source": [
    "%%html\n",
    "<html>\n",
    "  <head>\n",
    "    <title>Udacity Task List</title>\n",
    "    <style>\n",
    "        body {\n",
    "          margin-left:25px;\n",
    "          margin-right:25px;\n",
    "        }\n",
    "\n",
    "        h1 {\n",
    "          text-transform: uppercase;\n",
    "          margin-top: 20px;\n",
    "          margin-bottom: 20px;\n",
    "        }\n",
    "\n",
    "        img#udacity_logo {\n",
    "          width: 10%;\n",
    "        }\n",
    "\n",
    "        a#main-link {\n",
    "          display: block;\n",
    "          margin-top: 20px;\n",
    "          margin-bottom: 20px;\n",
    "          text-decoration: none;\n",
    "          color: gray;\n",
    "        }\n",
    "\n",
    "        div#main-content {\n",
    "          font-family: 'helvetica';\n",
    "        }\n",
    "\n",
    "        p.bold-paragraph {\n",
    "          font-weight: bold;\n",
    "        }\n",
    "        \n",
    "        td {\n",
    "          color:green;\n",
    "          border:solid black 1px;\n",
    "        }\n",
    "    </style>\n",
    "  </head>\n",
    "  <body>\n",
    "    <h1>Today's TODO list</h1>\n",
    "    <img id='udacity_logo' src='img/udacity_logo.png' alt='Udacity Logo'>\n",
    "    <a id=\"main-link\" href=\"https://www.udacity.com\">Udacity</a>    \n",
    "    <div id=\"main-content\">\n",
    "      <p class=\"bold-paragraph\">Hi, my name is Andrew.</p>\n",
    "      <p class=\"bold-paragraph\">I am a Udacity student from Los Angeles, California</p>\n",
    "      <p>I'm currently studying for the data scientist nanodegree program</p>\n",
    "      <p>These are my tasks:</p>\n",
    "      <ul>\n",
    "          <li>Watch ten videos</li>\n",
    "          <li>Answer all the quizzes</li>\n",
    "          <li>Work on the project for 2 hours</li>\n",
    "      </ul>\n",
    "      <p>Here is a table of the tasks that I've completed this week</p>\n",
    "    </div>\n",
    "    <table>\n",
    "      <caption>Breakdown of Tasks Completed</caption>\n",
    "      <tr>\n",
    "        <th>Day</th>\n",
    "        <th>Tasks Completed</th>\n",
    "      </tr>\n",
    "      <tr>\n",
    "        <td>Monday</td>\n",
    "        <td>Completed five concepts</td>\n",
    "      </tr>\n",
    "      <tr>\n",
    "        <td>Tuesday</td>\n",
    "        <td>Did three quizzes</td>\n",
    "      </tr>\n",
    "    </table>\n",
    "    <br>\n",
    "    <nav>\n",
    "      <a href=\"https://www.w3schools.com/html/\">HTML</a> |\n",
    "      <a href=\"https://www.w3schools.com/w3css/\">CSS</a> |\n",
    "      <a href=\"https://www.w3schools.com/js/default.asp\">JavaScript</a> |\n",
    "      <a href=\"https://www.w3schools.com/Jquery/default.asp\">jQuery</a>\n",
    "    </nav>\n",
    "  </body>\n",
    "  \n",
    "</html>"
   ]
  },
  {
   "cell_type": "markdown",
   "metadata": {},
   "source": [
    "#### Exercise 4: Bootstrap"
   ]
  },
  {
   "cell_type": "code",
   "execution_count": 5,
   "metadata": {},
   "outputs": [
    {
     "data": {
      "text/html": [
       "<html lang=\"en\">  \n",
       "  <head>\n",
       "    <!-- Required meta tags -->\n",
       "    <meta charset=\"utf-8\">\n",
       "    <meta name=\"viewport\" content=\"width=device-width, initial-scale=1, shrink-to-fit=no\">\n",
       "\n",
       "    <!-- Bootstrap CSS -->\n",
       "    <link rel=\"stylesheet\" href=\"https://maxcdn.bootstrapcdn.com/bootstrap/4.0.0/css/bootstrap.min.css\" integrity=\"sha384-Gn5384xqQ1aoWXA+058RXPxPg6fy4IWvTNh0E263XmFcJlSAwiGgFAW/dAiS6JXm\" crossorigin=\"anonymous\">\n",
       "    <!-- TODO: Change the title of the page to Data Dashboard -->\n",
       "    <title>Data Dashboard</title>\n",
       "  </head>\n",
       "  <body>\n",
       "    <!-- TODO: add a navigation bar to the top of the web page\n",
       "        The navigation bar should include \n",
       "        -   a link with a navbar-brand class. The link should say World Bank Dashboard and the href attribute should be equal to \"#\", which means that if somebody clicks on the link, the browser remains on the same page\n",
       "        -   a link to the Udacity data science nanodegree website: https://www.udacity.com/course/data-scientist-nanodegree--nd025\n",
       "        -   a link to the World Bank data website: https://data.worldbank.org/\n",
       "        -   any other links you'd like to add\n",
       "        - align the Udacity and World Bank links to the right side of the navbar (hint: use ml-auto)\n",
       "    HINT: If you get stuck, re-watch the previous video and/or use an example from the documentation on the Bootstrap website: https://getbootstrap.com/docs/4.0/components/navbar/#nav\n",
       "-->\n",
       "    <nav class=\"navbar navbar-expand-lg navbar-dark bg-primary\">\n",
       "      <a class=\"navbar-brand\" href=\"#\">World Bank Dashboard</a>\n",
       "      <button class=\"navbar-toggler\" type=\"button\" data-toggle=\"collapse\" data-target=\"#navbarSupportedContent\" aria-controls=\"navbarSupportedContent\" aria-expanded=\"false\" aria-label=\"Toggle navigation\">\n",
       "        <span class=\"navbar-toggler-icon\"></span>\n",
       "      </button>\n",
       "      <div class=\"collapse navbar-collapse\" id=\"navbarSupportedContent\">\n",
       "        <ul class=\"navbar-nav ml-auto\">\n",
       "          <li class=\"nav-item\">\n",
       "            <a class=\"nav-link\" href=\"https://www.udacity.com/course/data-scientist-nanodegree--nd025\">Udacity Data Science Nanodegree Program</a>\n",
       "          </li>\n",
       "          <li class=\"nav-item\">\n",
       "            <a class=\"nav-link\" href=\"https://data.worldbank.org/\">World Bank Data</a>\n",
       "          </li>\n",
       "        </ul>\n",
       "        <form class=\"form-inline my-2 my-lg-0\">\n",
       "          <input class=\"form-control mr-sm-2 ml-auto\" type=\"search\" placeholder=\"Search\" aria-label=\"Search\">\n",
       "          <button class=\"btn btn-outline-success my-2 my-sm-0\" type=\"submit\">Search</button>\n",
       "        </form>\n",
       "      </div>\n",
       "    </nav>\n",
       "\n",
       "    \n",
       "    <!-- TODO: Create a div with the row class. Inside this row, there should be three columns of the following size and in the following order:\n",
       "        - col-1\n",
       "        - col-1\n",
       "        - col-10\n",
       "    -->\n",
       "    <div class='row'>\n",
       "      <div class='col-1'>\n",
       "        <a href='https://github.com/lyustefan'>\n",
       "            <img class='img-fluid mt-2 ml-2' src='img/githublogo.png' alt='Github Logo' >\n",
       "        </a>\n",
       "      </div>\n",
       "\n",
       "      <div class='col-1 border-right'>\n",
       "        <a href='https://www.linkedin.com/in/yang-stefan-lyu/'>\n",
       "            <img class='img-fluid mt-2 mb-2' src='img/linkedinlogo.png' alt='Linkedin Logo' >\n",
       "        </a>\n",
       "        <a href='https://www.instagram.com/lyustefan/'>\n",
       "            <img class='img-fluid' src='img/instagram.png' alt='Instagram Logo'>\n",
       "        </a>\n",
       "      </div>\n",
       "      \n",
       "      <div class='col-10'>\n",
       "        <h2>World Bank Data Dashboard</h2>\n",
       "        <h4 class='text-muted'>Land Use Visulizations</h4>\n",
       "        <div class='container'>\n",
       "            <div class='row mb-3'>\n",
       "                <div class='col-4'>\n",
       "                  <img class='img-fluid' src='img/plot1.png' alt='plot1'>\n",
       "                </div>\n",
       "                <div class='col-4'>\n",
       "                  <img class='img-fluid' src='img/plot2.png' alt='plot2'>\n",
       "                </div>\n",
       "                <div class='col-4'>\n",
       "                  <img class='img-fluid' src='img/plot3.png' alt='plot3'>\n",
       "                </div>\n",
       "            </div>\n",
       "            <div class='row'>\n",
       "              <div class='col-6'>\n",
       "                  <img class='img-fluid' src='img/plot4.png' alt='plot4'>\n",
       "              </div>\n",
       "              <div class='col-6'>\n",
       "                  <img class='img-fluid' src='img/plot5.png' alt='plot5'>\n",
       "              </div>\n",
       "            </div>\n",
       "        </div>\n",
       "      </div>\n",
       "    </div>\n",
       "    <!-- TODO: In the first column, put a link to your github profile and use the github logo image in the asset folder. Make sure to use the img-fluid class in the img tags -->\n",
       "    <!-- TODO: In the second column, put a link to your linkedin profile and your instagram account. Use the images in the asset folder. If you don't have these accounts, then add the links anyway and in the href attribute, put href=\"#\". That tells the browser to do nothing when the link is clicked. Also, add a border to the right side of the column -->\n",
       "    <!-- TODO: In the third column, \n",
       "     add an h2 header that says World Bank Data Dashboard and an h4 header that says Land Use Visualizations. Change the color of the h4 font using the text-muted class. Remove the Hello World Header -->\n",
       "    \n",
       "\n",
       "<!-- TODO: In the third column underneath the h2 and h4 tags, you'll place the five visualizations plot1.png, plot2.png...plot5.png. First, wrap them in a container class. \n",
       "\n",
       "Put the visualizations in two rows such that the first row contains plot1.png, plot2.png, and plot3.png, spaced evenly into three columns. The second row should contain plot4.png, plot5.png, evenly spaced into three columns. The final result should be:\n",
       "plot1.png plot2.png plot3.png\n",
       "plot4.png       plot5.png -->\n",
       "        \n",
       "<!-- TODO: Add margins and padding where appropriate. In Bootstrap you can add margins using classes: mr-3 would be margin-right 3. mr-5 would be a larger right margin. You can use mt, mb, ml, mr, pt, pb, pl, pr where t, b, l and r stand for top, bottom, left and right.\n",
       "-->\n",
       "\n",
       "<!-- TODO: paste your HTML into the W3C html validator. Fix any errors that come up: https://validator.w3.org/#validate_by_input -->\n",
       "\n",
       "    <!-- Optional JavaScript -->\n",
       "    <!-- jQuery first, then Popper.js, then Bootstrap JS -->\n",
       "<script src=\"https://code.jquery.com/jquery-3.2.1.slim.min.js\" integrity=\"sha384-KJ3o2DKtIkvYIK3UENzmM7KCkRr/rE9/Qpg6aAZGJwFDMVNA/GpGFF93hXpG5KkN\" crossorigin=\"anonymous\"></script>\n",
       "    <script src=\"https://cdnjs.cloudflare.com/ajax/libs/popoper.js/1.12.9/umd/popper.min.js\" integrity=\"sha384-ApNbgh9B+Y1QKtv3Rn7W3mgPxhU9K/ScQsAP7hUibX39j7fakFPskvXusvfa0b4Q\" crossorigin=\"anonymous\"></script>\n",
       "    <script src=\"https://maxcdn.bootstrapcdn.com/bootstrap/4.0.0/js/bootstrap.min.js\" integrity=\"sha384-JZR6Spejh4U02d8jOt6vLEHfe/JQGiRRSQQxSfFWpi1MquVdAyjUar5+76PVCmYl\" crossorigin=\"anonymous\"></script>\n",
       "  </body>\n",
       "</html>\n"
      ],
      "text/plain": [
       "<IPython.core.display.HTML object>"
      ]
     },
     "metadata": {},
     "output_type": "display_data"
    }
   ],
   "source": [
    "%%html\n",
    "<html lang=\"en\">  \n",
    "  <head>\n",
    "    <!-- Required meta tags -->\n",
    "    <meta charset=\"utf-8\">\n",
    "    <meta name=\"viewport\" content=\"width=device-width, initial-scale=1, shrink-to-fit=no\">\n",
    "\n",
    "    <!-- Bootstrap CSS -->\n",
    "    <link rel=\"stylesheet\" href=\"https://maxcdn.bootstrapcdn.com/bootstrap/4.0.0/css/bootstrap.min.css\" integrity=\"sha384-Gn5384xqQ1aoWXA+058RXPxPg6fy4IWvTNh0E263XmFcJlSAwiGgFAW/dAiS6JXm\" crossorigin=\"anonymous\">\n",
    "    <!-- TODO: Change the title of the page to Data Dashboard -->\n",
    "    <title>Data Dashboard</title>\n",
    "  </head>\n",
    "  <body>\n",
    "    <!-- TODO: add a navigation bar to the top of the web page\n",
    "        The navigation bar should include \n",
    "        -   a link with a navbar-brand class. The link should say World Bank Dashboard and the href attribute should be equal to \"#\", which means that if somebody clicks on the link, the browser remains on the same page\n",
    "        -   a link to the Udacity data science nanodegree website: https://www.udacity.com/course/data-scientist-nanodegree--nd025\n",
    "        -   a link to the World Bank data website: https://data.worldbank.org/\n",
    "        -   any other links you'd like to add\n",
    "        - align the Udacity and World Bank links to the right side of the navbar (hint: use ml-auto)\n",
    "    HINT: If you get stuck, re-watch the previous video and/or use an example from the documentation on the Bootstrap website: https://getbootstrap.com/docs/4.0/components/navbar/#nav\n",
    "-->\n",
    "    <nav class=\"navbar navbar-expand-lg navbar-dark bg-primary\">\n",
    "      <a class=\"navbar-brand\" href=\"#\">World Bank Dashboard</a>\n",
    "      <button class=\"navbar-toggler\" type=\"button\" data-toggle=\"collapse\" data-target=\"#navbarSupportedContent\" aria-controls=\"navbarSupportedContent\" aria-expanded=\"false\" aria-label=\"Toggle navigation\">\n",
    "        <span class=\"navbar-toggler-icon\"></span>\n",
    "      </button>\n",
    "      <div class=\"collapse navbar-collapse\" id=\"navbarSupportedContent\">\n",
    "        <ul class=\"navbar-nav ml-auto\">\n",
    "          <li class=\"nav-item\">\n",
    "            <a class=\"nav-link\" href=\"https://www.udacity.com/course/data-scientist-nanodegree--nd025\">Udacity Data Science Nanodegree Program</a>\n",
    "          </li>\n",
    "          <li class=\"nav-item\">\n",
    "            <a class=\"nav-link\" href=\"https://data.worldbank.org/\">World Bank Data</a>\n",
    "          </li>\n",
    "        </ul>\n",
    "        <form class=\"form-inline my-2 my-lg-0\">\n",
    "          <input class=\"form-control mr-sm-2 ml-auto\" type=\"search\" placeholder=\"Search\" aria-label=\"Search\">\n",
    "          <button class=\"btn btn-outline-success my-2 my-sm-0\" type=\"submit\">Search</button>\n",
    "        </form>\n",
    "      </div>\n",
    "    </nav>\n",
    "\n",
    "    \n",
    "    <!-- TODO: Create a div with the row class. Inside this row, there should be three columns of the following size and in the following order:\n",
    "        - col-1\n",
    "        - col-1\n",
    "        - col-10\n",
    "    -->\n",
    "    <div class='row'>\n",
    "      <div class='col-1'>\n",
    "        <a href='https://github.com/lyustefan'>\n",
    "            <img class='img-fluid mt-2 ml-2' src='img/githublogo.png' alt='Github Logo' >\n",
    "        </a>\n",
    "      </div>\n",
    "\n",
    "      <div class='col-1 border-right'>\n",
    "        <a href='https://www.linkedin.com/in/yang-stefan-lyu/'>\n",
    "            <img class='img-fluid mt-2 mb-2' src='img/linkedinlogo.png' alt='Linkedin Logo' >\n",
    "        </a>\n",
    "        <a href='https://www.instagram.com/lyustefan/'>\n",
    "            <img class='img-fluid' src='img/instagram.png' alt='Instagram Logo'>\n",
    "        </a>\n",
    "      </div>\n",
    "      \n",
    "      <div class='col-10'>\n",
    "        <h2>World Bank Data Dashboard</h2>\n",
    "        <h4 class='text-muted'>Land Use Visulizations</h4>\n",
    "        <div class='container'>\n",
    "            <div class='row mb-3'>\n",
    "                <div class='col-4'>\n",
    "                  <img class='img-fluid' src='img/plot1.png' alt='plot1'>\n",
    "                </div>\n",
    "                <div class='col-4'>\n",
    "                  <img class='img-fluid' src='img/plot2.png' alt='plot2'>\n",
    "                </div>\n",
    "                <div class='col-4'>\n",
    "                  <img class='img-fluid' src='img/plot3.png' alt='plot3'>\n",
    "                </div>\n",
    "            </div>\n",
    "            <div class='row'>\n",
    "              <div class='col-6'>\n",
    "                  <img class='img-fluid' src='img/plot4.png' alt='plot4'>\n",
    "              </div>\n",
    "              <div class='col-6'>\n",
    "                  <img class='img-fluid' src='img/plot5.png' alt='plot5'>\n",
    "              </div>\n",
    "            </div>\n",
    "        </div>\n",
    "      </div>\n",
    "    </div>\n",
    "    <!-- TODO: In the first column, put a link to your github profile and use the github logo image in the asset folder. Make sure to use the img-fluid class in the img tags -->\n",
    "    <!-- TODO: In the second column, put a link to your linkedin profile and your instagram account. Use the images in the asset folder. If you don't have these accounts, then add the links anyway and in the href attribute, put href=\"#\". That tells the browser to do nothing when the link is clicked. Also, add a border to the right side of the column -->\n",
    "    <!-- TODO: In the third column, \n",
    "     add an h2 header that says World Bank Data Dashboard and an h4 header that says Land Use Visualizations. Change the color of the h4 font using the text-muted class. Remove the Hello World Header -->\n",
    "    \n",
    "\n",
    "<!-- TODO: In the third column underneath the h2 and h4 tags, you'll place the five visualizations plot1.png, plot2.png...plot5.png. First, wrap them in a container class. \n",
    "\n",
    "Put the visualizations in two rows such that the first row contains plot1.png, plot2.png, and plot3.png, spaced evenly into three columns. The second row should contain plot4.png, plot5.png, evenly spaced into three columns. The final result should be:\n",
    "plot1.png plot2.png plot3.png\n",
    "plot4.png       plot5.png -->\n",
    "        \n",
    "<!-- TODO: Add margins and padding where appropriate. In Bootstrap you can add margins using classes: mr-3 would be margin-right 3. mr-5 would be a larger right margin. You can use mt, mb, ml, mr, pt, pb, pl, pr where t, b, l and r stand for top, bottom, left and right.\n",
    "-->\n",
    "\n",
    "<!-- TODO: paste your HTML into the W3C html validator. Fix any errors that come up: https://validator.w3.org/#validate_by_input -->\n",
    "\n",
    "    <!-- Optional JavaScript -->\n",
    "    <!-- jQuery first, then Popper.js, then Bootstrap JS -->\n",
    "<script src=\"https://code.jquery.com/jquery-3.2.1.slim.min.js\" integrity=\"sha384-KJ3o2DKtIkvYIK3UENzmM7KCkRr/rE9/Qpg6aAZGJwFDMVNA/GpGFF93hXpG5KkN\" crossorigin=\"anonymous\"></script>\n",
    "    <script src=\"https://cdnjs.cloudflare.com/ajax/libs/popoper.js/1.12.9/umd/popper.min.js\" integrity=\"sha384-ApNbgh9B+Y1QKtv3Rn7W3mgPxhU9K/ScQsAP7hUibX39j7fakFPskvXusvfa0b4Q\" crossorigin=\"anonymous\"></script>\n",
    "    <script src=\"https://maxcdn.bootstrapcdn.com/bootstrap/4.0.0/js/bootstrap.min.js\" integrity=\"sha384-JZR6Spejh4U02d8jOt6vLEHfe/JQGiRRSQQxSfFWpi1MquVdAyjUar5+76PVCmYl\" crossorigin=\"anonymous\"></script>\n",
    "  </body>\n",
    "</html>\n"
   ]
  },
  {
   "cell_type": "markdown",
   "metadata": {},
   "source": [
    "### javascript\n",
    "\n",
    "What is JavaScript?\n",
    "* JavaScript is a high level language like Python, PHP, Ruby, and C++. It was specifically developed to make the front-end of a web application more dynamic; however, you can also use javascript to program the back-end of a website with the JavaScript runtime environment node.\n",
    "* Java and javaScript are two completely different languages that happen to have similar names.\n",
    "* JavaScript syntax, especially for front-end web development, is a bit tricky. It's much easier to write front-end JavaScript code using a framework such as jQuery."
   ]
  },
  {
   "cell_type": "markdown",
   "metadata": {},
   "source": [
    "![image.png](img/javascript.png)"
   ]
  },
  {
   "cell_type": "markdown",
   "metadata": {},
   "source": [
    "![image.png](img/jquery1.png)"
   ]
  },
  {
   "cell_type": "markdown",
   "metadata": {},
   "source": [
    "![image.png](img/jquery2.png)"
   ]
  },
  {
   "cell_type": "markdown",
   "metadata": {},
   "source": [
    "#### Exercise 5"
   ]
  },
  {
   "cell_type": "code",
   "execution_count": 15,
   "metadata": {},
   "outputs": [
    {
     "data": {
      "text/html": [
       "<html>\n",
       "  <head>\n",
       "    <title>Udacity Task List</title>\n",
       "  <link rel=\"stylesheet\" type=\"text/css\" href=\"style.css\">\n",
       "  <script src=\"https://ajax.googleapis.com/ajax/libs/jquery/3.3.1/jquery.min.js\"></script>\n",
       "    <script src=\"textchange.js\"></script>\n",
       "  </head>\n",
       "  <body>\n",
       "    <h1>Today's TODO list</h1>\n",
       "    <img src='img/udacity_logo.png' alt='Udacity Logo'>\n",
       "    <a id=\"main-link\" href=\"https://www.udacity.com\">Udacity</a>    \n",
       "    <div id=\"main-content\">\n",
       "      <p class=\"bold-paragraph\">Hi, my name is Andrew.</p>\n",
       "      <p class=\"bold-paragraph\">I am a Udacity student from Los Angeles, California</p>\n",
       "      <p class='red-paragraph'>I'm currently studying for the data scientist nanodegree program</p>\n",
       "      <p>These are my <span class=\"blue_text\" id=\"fade_in_tasks\">tasks:</span></p>\n",
       "      <ul id='fadein'>\n",
       "          <li>Watch ten videos</li>\n",
       "          <li>Answer all the quizzes</li>\n",
       "          <li>Work on the project for 2 hours</li>\n",
       "      </ul>\n",
       "      <p>Here is a table of the tasks that I've completed this week</p>\n",
       "    </div>\n",
       "    <table>\n",
       "      <caption>Breakdown of Tasks Completed</caption>\n",
       "      <tr>\n",
       "        <th>Day</th>\n",
       "        <th>Tasks Completed</th>\n",
       "      </tr>\n",
       "      <tr>\n",
       "        <td>Monday</td>\n",
       "        <td>Completed five concepts</td>\n",
       "      </tr>\n",
       "      <tr>\n",
       "        <td>Tuesday</td>\n",
       "        <td>Did three quizzes</td>\n",
       "      </tr>\n",
       "    </table>\n",
       "    <br>\n",
       "    <nav>\n",
       "      <a href=\"https://www.w3schools.com/html/\">HTML</a> |\n",
       "      <a href=\"https://www.w3schools.com/w3css/\">CSS</a> |\n",
       "      <a href=\"https://www.w3schools.com/js/default.asp\">JavaScript</a> |\n",
       "      <a href=\"https://www.w3schools.com/Jquery/default.asp\">jQuery</a>\n",
       "  </nav>\n",
       "  </body>\n",
       "  \n",
       "</html>\n"
      ],
      "text/plain": [
       "<IPython.core.display.HTML object>"
      ]
     },
     "metadata": {},
     "output_type": "display_data"
    }
   ],
   "source": [
    "%%html\n",
    "<html>\n",
    "  <head>\n",
    "    <title>Udacity Task List</title>\n",
    "  <link rel=\"stylesheet\" type=\"text/css\" href=\"style.css\">\n",
    "  <script src=\"https://ajax.googleapis.com/ajax/libs/jquery/3.3.1/jquery.min.js\"></script>\n",
    "    <script src=\"textchange.js\"></script>\n",
    "  </head>\n",
    "  <body>\n",
    "    <h1>Today's TODO list</h1>\n",
    "    <img src='img/udacity_logo.png' alt='Udacity Logo'>\n",
    "    <a id=\"main-link\" href=\"https://www.udacity.com\">Udacity</a>    \n",
    "    <div id=\"main-content\">\n",
    "      <p class=\"bold-paragraph\">Hi, my name is Andrew.</p>\n",
    "      <p class=\"bold-paragraph\">I am a Udacity student from Los Angeles, California</p>\n",
    "      <p class='red-paragraph'>I'm currently studying for the data scientist nanodegree program</p>\n",
    "      <p>These are my <span class=\"blue_text\" id=\"fade_in_tasks\">tasks:</span></p>\n",
    "      <ul id='fadein'>\n",
    "          <li>Watch ten videos</li>\n",
    "          <li>Answer all the quizzes</li>\n",
    "          <li>Work on the project for 2 hours</li>\n",
    "      </ul>\n",
    "      <p>Here is a table of the tasks that I've completed this week</p>\n",
    "    </div>\n",
    "    <table>\n",
    "      <caption>Breakdown of Tasks Completed</caption>\n",
    "      <tr>\n",
    "        <th>Day</th>\n",
    "        <th>Tasks Completed</th>\n",
    "      </tr>\n",
    "      <tr>\n",
    "        <td>Monday</td>\n",
    "        <td>Completed five concepts</td>\n",
    "      </tr>\n",
    "      <tr>\n",
    "        <td>Tuesday</td>\n",
    "        <td>Did three quizzes</td>\n",
    "      </tr>\n",
    "    </table>\n",
    "    <br>\n",
    "    <nav>\n",
    "      <a href=\"https://www.w3schools.com/html/\">HTML</a> |\n",
    "      <a href=\"https://www.w3schools.com/w3css/\">CSS</a> |\n",
    "      <a href=\"https://www.w3schools.com/js/default.asp\">JavaScript</a> |\n",
    "      <a href=\"https://www.w3schools.com/Jquery/default.asp\">jQuery</a>\n",
    "  </nav>\n",
    "  </body>\n",
    "  \n",
    "</html>"
   ]
  },
  {
   "cell_type": "markdown",
   "metadata": {},
   "source": [
    "### Plotly\n",
    "\n",
    "**Why Plotly**\n",
    "\n",
    "For this lesson, we've chosen plotly for a specific reason: Plotly, although a private company, provides open source libraries for both JavaScript and Python.\n",
    "\n",
    "Because the web app you're developing will have a Python back-end, you can use the Python library to create your charts. Rather than having you learn more JavaScript syntax, you can use the Python syntax that you already know. However, you haven't built a back-end yet, so for now, you'll see the basics of how Plotly works using the JavaScript library. The syntax between the Python and Javascript versions is similar.\n",
    "\n",
    "Later in the lesson, you'll switch to the Python version of the Plotly library so that you can prepare visualizations on the back-end of your web app. Yet you could write all the visualization code in JavaScript if you wanted to. Watch the screencast below to learn the basics of how Plotly works, and then continue on to the Plotly exercise."
   ]
  },
  {
   "cell_type": "markdown",
   "metadata": {},
   "source": [
    "### Flask"
   ]
  },
  {
   "cell_type": "markdown",
   "metadata": {},
   "source": [
    "[Flask](https://flask.palletsprojects.com/en/1.1.x/). A web framework takes care of all the routing needed to organize a web page so that you don't have to write the code yourself!\n",
    "\n",
    "When you type \"http://www.udacity.com\" into a browser, your computer sends out a request to another computer (ie the server) where the Udacity website is stored. Then the Udacity server sends you the files needed to render the website in your browser. The Udacity computer is called a server because it \"serves\" you the files that you requested.\n",
    "\n",
    "The HTTP part of the web address stands for Hypter-text Transfer Protocol. HTTP defines a standard way of sending and receiving messages over the internet.\n",
    "\n",
    "When you hit enter in your browser, your computer says \"get me the files for the web page at www.udacity.com\": except that message is sent to the server with the syntax governed by HTTP. Then the server sends out the files via the protocol as well.\n",
    "\n",
    "There needs to be some software on the server that can interpret these HTTP requests and send out the correct files. That's where a web framework like Flask comes into play. A framework abstracts the code for receiving requests as well as interpreting the requests and sending out the correct files.\n",
    "\n",
    "#### Why Flask?\n",
    "First and foremost, you'll be working with Flask because it is written in Python. You won't need to learn a new programming language.\n",
    "Flask is also a relatively simple framework, so it's good for making a small web app.\n",
    "Because Flask is written in Python, you can use Flask with any other Python library including pandas, numpy and scikit-learn. In this lesson, you'll be deploying a data dashboard and pandas will help get the data ready."
   ]
  },
  {
   "cell_type": "code",
   "execution_count": null,
   "metadata": {},
   "outputs": [],
   "source": []
  },
  {
   "cell_type": "markdown",
   "metadata": {},
   "source": [
    "[Back to top](#Web-Development)"
   ]
  }
 ],
 "metadata": {
  "kernelspec": {
   "display_name": "Python 3",
   "language": "python",
   "name": "python3"
  },
  "language_info": {
   "codemirror_mode": {
    "name": "ipython",
    "version": 3
   },
   "file_extension": ".py",
   "mimetype": "text/x-python",
   "name": "python",
   "nbconvert_exporter": "python",
   "pygments_lexer": "ipython3",
   "version": "3.7.6"
  }
 },
 "nbformat": 4,
 "nbformat_minor": 4
}
